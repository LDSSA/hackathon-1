{
 "cells": [
  {
   "cell_type": "markdown",
   "metadata": {},
   "source": [
    "# LSDDA: Hackathon #1\n",
    "\n",
    "## Objective\n",
    "**Predict if a web page is fake (binary classification).**\n",
    "\n",
    "## Data structure\n",
    "### Target variable: \n",
    "**label**: label=0 webpage not fake | label=1 webpage is fake\n",
    "### Features: \n",
    "- 24 features: categoricals and numericals:\n",
    "\n",
    "**Feature Name | Description**  \n",
    "urlid | unique identifier for each url  \n",
    "category1 | info category  \n",
    "category1_score | info score  \n",
    "avglinksize\t| Average number of words in each link  \n",
    "commonlink_1 | 1 link sharing ratio  \n",
    "commonlink_2 | 2 link sharing ratio  \n",
    "commonlink_3 | 3 link sharing ratio  \n",
    "commonlink_4 | 4 link sharing ratio  \n",
    "compression_r | zip compression  \n",
    "embed_r\t| embedded count  \n",
    "frame1 | A page is frame-based (1)   \n",
    "frame2 | Ratio of iframe  \n",
    "hasDL |\tContains url with domain  \n",
    "html_r | html ratio  \n",
    "image_r\t| image ratio  \n",
    "not_news | not news label  \n",
    "lengthyLD |\talphanumeric characters  \n",
    "linkws | Percentage on hyperlink  \n",
    "news_fp | If front-page news  \n",
    "non_markup_a | Page's text's number of alphanumeric characters  \n",
    "numberL | Markups  \n",
    "numwordsU | Words in url  \n",
    "parametrizedLR | url contains parameters or has an attached event  \n",
    "spelling_r | Ratio on spelling mistake  \n",
    "\n",
    "## Evaluation\n",
    "The classification metric that shall be used is [AUROC](http://scikit-learn.org/stable/modules/generated/sklearn.metrics.roc_auc_score.html)."
   ]
  },
  {
   "cell_type": "code",
   "execution_count": 1,
   "metadata": {
    "collapsed": true
   },
   "outputs": [],
   "source": [
    "import pandas as pd\n",
    "import numpy as np"
   ]
  },
  {
   "cell_type": "markdown",
   "metadata": {},
   "source": [
    "# Load Train Data\n",
    "The test data is loaded the same way."
   ]
  },
  {
   "cell_type": "code",
   "execution_count": 3,
   "metadata": {
    "scrolled": true
   },
   "outputs": [
    {
     "name": "stdout",
     "output_type": "stream",
     "text": [
      "Shape: (5916, 25)\n"
     ]
    },
    {
     "data": {
      "text/html": [
       "<div>\n",
       "<table border=\"1\" class=\"dataframe\">\n",
       "  <thead>\n",
       "    <tr style=\"text-align: right;\">\n",
       "      <th></th>\n",
       "      <th>urlid</th>\n",
       "      <th>category1</th>\n",
       "      <th>category1_score</th>\n",
       "      <th>avglinksize</th>\n",
       "      <th>commonlink_1</th>\n",
       "      <th>commonlink_2</th>\n",
       "      <th>commonlink_3</th>\n",
       "      <th>commonlink_4</th>\n",
       "      <th>compression_r</th>\n",
       "      <th>embed_r</th>\n",
       "      <th>...</th>\n",
       "      <th>not_news</th>\n",
       "      <th>lengthyLD</th>\n",
       "      <th>linkws</th>\n",
       "      <th>news_fp</th>\n",
       "      <th>non_markup_a</th>\n",
       "      <th>numberL</th>\n",
       "      <th>numwordsU</th>\n",
       "      <th>parametrizedLR</th>\n",
       "      <th>spelling_r</th>\n",
       "      <th>label</th>\n",
       "    </tr>\n",
       "  </thead>\n",
       "  <tbody>\n",
       "    <tr>\n",
       "      <th>0</th>\n",
       "      <td>4042</td>\n",
       "      <td>business</td>\n",
       "      <td>0.789131</td>\n",
       "      <td>2.055556</td>\n",
       "      <td>0.676471</td>\n",
       "      <td>0.205882</td>\n",
       "      <td>0.047059</td>\n",
       "      <td>0.023529</td>\n",
       "      <td>0.443783</td>\n",
       "      <td>0.0</td>\n",
       "      <td>...</td>\n",
       "      <td>1</td>\n",
       "      <td>1</td>\n",
       "      <td>24</td>\n",
       "      <td>0</td>\n",
       "      <td>5424</td>\n",
       "      <td>170</td>\n",
       "      <td>8</td>\n",
       "      <td>0.152941</td>\n",
       "      <td>0.079130</td>\n",
       "      <td>0</td>\n",
       "    </tr>\n",
       "    <tr>\n",
       "      <th>1</th>\n",
       "      <td>8471</td>\n",
       "      <td>recreation</td>\n",
       "      <td>0.574147</td>\n",
       "      <td>3.677966</td>\n",
       "      <td>0.508021</td>\n",
       "      <td>0.288770</td>\n",
       "      <td>0.213904</td>\n",
       "      <td>0.144385</td>\n",
       "      <td>0.468649</td>\n",
       "      <td>0.0</td>\n",
       "      <td>...</td>\n",
       "      <td>1</td>\n",
       "      <td>1</td>\n",
       "      <td>40</td>\n",
       "      <td>0</td>\n",
       "      <td>4973</td>\n",
       "      <td>187</td>\n",
       "      <td>9</td>\n",
       "      <td>0.181818</td>\n",
       "      <td>0.125448</td>\n",
       "      <td>1</td>\n",
       "    </tr>\n",
       "    <tr>\n",
       "      <th>2</th>\n",
       "      <td>1164</td>\n",
       "      <td>health</td>\n",
       "      <td>0.996526</td>\n",
       "      <td>2.382883</td>\n",
       "      <td>0.562016</td>\n",
       "      <td>0.321705</td>\n",
       "      <td>0.120155</td>\n",
       "      <td>0.042636</td>\n",
       "      <td>0.525448</td>\n",
       "      <td>0.0</td>\n",
       "      <td>...</td>\n",
       "      <td>1</td>\n",
       "      <td>1</td>\n",
       "      <td>55</td>\n",
       "      <td>0</td>\n",
       "      <td>2240</td>\n",
       "      <td>258</td>\n",
       "      <td>11</td>\n",
       "      <td>0.166667</td>\n",
       "      <td>0.057613</td>\n",
       "      <td>1</td>\n",
       "    </tr>\n",
       "    <tr>\n",
       "      <th>3</th>\n",
       "      <td>6684</td>\n",
       "      <td>health</td>\n",
       "      <td>0.801248</td>\n",
       "      <td>1.543103</td>\n",
       "      <td>0.400000</td>\n",
       "      <td>0.100000</td>\n",
       "      <td>0.016667</td>\n",
       "      <td>0.000000</td>\n",
       "      <td>0.480725</td>\n",
       "      <td>0.0</td>\n",
       "      <td>...</td>\n",
       "      <td>1</td>\n",
       "      <td>0</td>\n",
       "      <td>24</td>\n",
       "      <td>0</td>\n",
       "      <td>2737</td>\n",
       "      <td>120</td>\n",
       "      <td>5</td>\n",
       "      <td>0.041667</td>\n",
       "      <td>0.100858</td>\n",
       "      <td>1</td>\n",
       "    </tr>\n",
       "    <tr>\n",
       "      <th>4</th>\n",
       "      <td>8685</td>\n",
       "      <td>arts_entertainment</td>\n",
       "      <td>0.22111</td>\n",
       "      <td>0.773810</td>\n",
       "      <td>0.215054</td>\n",
       "      <td>0.053763</td>\n",
       "      <td>0.043011</td>\n",
       "      <td>0.043011</td>\n",
       "      <td>0.579596</td>\n",
       "      <td>0.0</td>\n",
       "      <td>...</td>\n",
       "      <td>1</td>\n",
       "      <td>0</td>\n",
       "      <td>21</td>\n",
       "      <td>0</td>\n",
       "      <td>1287</td>\n",
       "      <td>93</td>\n",
       "      <td>3</td>\n",
       "      <td>0.548387</td>\n",
       "      <td>0.064327</td>\n",
       "      <td>1</td>\n",
       "    </tr>\n",
       "  </tbody>\n",
       "</table>\n",
       "<p>5 rows × 25 columns</p>\n",
       "</div>"
      ],
      "text/plain": [
       "   urlid           category1 category1_score  avglinksize  commonlink_1  \\\n",
       "0   4042            business        0.789131     2.055556      0.676471   \n",
       "1   8471          recreation        0.574147     3.677966      0.508021   \n",
       "2   1164              health        0.996526     2.382883      0.562016   \n",
       "3   6684              health        0.801248     1.543103      0.400000   \n",
       "4   8685  arts_entertainment         0.22111     0.773810      0.215054   \n",
       "\n",
       "   commonlink_2  commonlink_3  commonlink_4  compression_r  embed_r  ...    \\\n",
       "0      0.205882      0.047059      0.023529       0.443783      0.0  ...     \n",
       "1      0.288770      0.213904      0.144385       0.468649      0.0  ...     \n",
       "2      0.321705      0.120155      0.042636       0.525448      0.0  ...     \n",
       "3      0.100000      0.016667      0.000000       0.480725      0.0  ...     \n",
       "4      0.053763      0.043011      0.043011       0.579596      0.0  ...     \n",
       "\n",
       "   not_news  lengthyLD  linkws  news_fp  non_markup_a numberL  numwordsU  \\\n",
       "0         1          1      24        0          5424     170          8   \n",
       "1         1          1      40        0          4973     187          9   \n",
       "2         1          1      55        0          2240     258         11   \n",
       "3         1          0      24        0          2737     120          5   \n",
       "4         1          0      21        0          1287      93          3   \n",
       "\n",
       "   parametrizedLR spelling_r  label  \n",
       "0        0.152941   0.079130      0  \n",
       "1        0.181818   0.125448      1  \n",
       "2        0.166667   0.057613      1  \n",
       "3        0.041667   0.100858      1  \n",
       "4        0.548387   0.064327      1  \n",
       "\n",
       "[5 rows x 25 columns]"
      ]
     },
     "execution_count": 3,
     "metadata": {},
     "output_type": "execute_result"
    }
   ],
   "source": [
    "df = pd.read_csv('train.csv')\n",
    "print('Shape:', df.shape)\n",
    "df.head()"
   ]
  },
  {
   "cell_type": "markdown",
   "metadata": {},
   "source": [
    "# Have fun!"
   ]
  },
  {
   "cell_type": "code",
   "execution_count": 4,
   "metadata": {
    "scrolled": true
   },
   "outputs": [
    {
     "data": {
      "text/html": [
       "<img src=\"https://media.giphy.com/media/o0vwzuFwCGAFO/giphy.gif\">"
      ],
      "text/plain": [
       "<IPython.core.display.HTML object>"
      ]
     },
     "execution_count": 4,
     "metadata": {},
     "output_type": "execute_result"
    }
   ],
   "source": [
    "from IPython.display import HTML\n",
    "HTML('<img src=\"https://media.giphy.com/media/o0vwzuFwCGAFO/giphy.gif\">')"
   ]
  }
 ],
 "metadata": {
  "kernelspec": {
   "display_name": "Python 3",
   "language": "python",
   "name": "python3"
  },
  "language_info": {
   "codemirror_mode": {
    "name": "ipython",
    "version": 3
   },
   "file_extension": ".py",
   "mimetype": "text/x-python",
   "name": "python",
   "nbconvert_exporter": "python",
   "pygments_lexer": "ipython3",
   "version": "3.4.4"
  }
 },
 "nbformat": 4,
 "nbformat_minor": 2
}
